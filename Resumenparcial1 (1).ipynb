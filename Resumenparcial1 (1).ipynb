{
  "nbformat": 4,
  "nbformat_minor": 0,
  "metadata": {
    "colab": {
      "provenance": []
    },
    "kernelspec": {
      "name": "python3",
      "display_name": "Python 3"
    },
    "language_info": {
      "name": "python"
    }
  },
  "cells": [
    {
      "cell_type": "markdown",
      "source": [
        "##Repaso primer parcial\n"
      ],
      "metadata": {
        "id": "pCY3Hsod58VW"
      }
    },
    {
      "cell_type": "code",
      "execution_count": 10,
      "metadata": {
        "colab": {
          "base_uri": "https://localhost:8080/"
        },
        "id": "O8OownO243sc",
        "outputId": "d44c135c-5fc4-4858-bfde-aeea84e52b56"
      },
      "outputs": [
        {
          "output_type": "stream",
          "name": "stdout",
          "text": [
            "Hola, Mundo!\n",
            "Godo\n",
            "Pon un número: 8\n",
            "16\n",
            "Pon el primer número: 9\n",
            "Pon el segundo número: 10\n",
            "Suma: 19\n"
          ]
        }
      ],
      "source": [
        "# 1. Imprime \"Hola, Mundo!\"\n",
        "print(\"Hola, Mundo!\")\n",
        "\n",
        "# 2. Declara una variable llamada nombre e imprime su valor\n",
        "nombre = \"Godo\"\n",
        "print(nombre)\n",
        "\n",
        "# 3. Pide al usuario que ingrese un número e imprime su doble\n",
        "num = int(input(\"Pon un número: \"))\n",
        "print(num * 2)\n",
        "\n",
        "# 4. Escribe un programa que sume dos números ingresados por el usuario\n",
        "num1 = int(input(\"Pon el primer número: \"))\n",
        "num2 = int(input(\"Pon el segundo número: \"))\n",
        "print(\"Suma:\", num1 + num2)"
      ]
    },
    {
      "cell_type": "code",
      "source": [
        "# 5. Crea una lista con cinco números y muestra el primer y último elemento\n",
        "numeros = [1, 2, 3, 4, 5]\n",
        "print(\"Primer número:\", numeros[0])\n",
        "print(\"Último número:\", numeros[-1])\n",
        "\n",
        "# 6. Verifica si un número es par o impar\n",
        "num= int(input(\"Pon un número: \"))\n",
        "if num % 2 == 0:\n",
        "    print(\"par\")\n",
        "else:\n",
        "    print(\"impar\")\n",
        "\n",
        "\n",
        "# 7. Imprime los números del 1 al 10\n",
        "for i in range(1, 11):\n",
        "    print(i)\n"
      ],
      "metadata": {
        "colab": {
          "base_uri": "https://localhost:8080/"
        },
        "id": "rU6lKQFA7aDo",
        "outputId": "b9779f8a-52ef-4a1a-c02b-9d41ed7c91ba"
      },
      "execution_count": 15,
      "outputs": [
        {
          "output_type": "stream",
          "name": "stdout",
          "text": [
            "Primer número: 1\n",
            "Último número: 5\n",
            "Pon un número: 9\n",
            "impar\n",
            "1\n",
            "2\n",
            "3\n",
            "4\n",
            "5\n",
            "6\n",
            "7\n",
            "8\n",
            "9\n",
            "10\n"
          ]
        }
      ]
    },
    {
      "cell_type": "code",
      "source": [
        "# 8. Suma de los primeros 100 números naturales\n",
        "print(sum(range(1, 101)))\n",
        "\n",
        "# 9. Función que devuelve el cuadrado de un número\n",
        "def cuadrado(n):\n",
        "    return n ** 2\n",
        "\n",
        "# 10. Cuenta cuántas vocales tiene una cadena de texto\n",
        "texto = input(\"Ingresa un texto: \")\n",
        "vocales = \"aeiouAEIOU\"\n",
        "contador = sum(1 for letra in texto if letra in vocales)\n",
        "print(\"Numero de vocales:\", contador)\n",
        "\n",
        "# 11. Lista de números del 1 al 10, mostrando solo los pares\n",
        "pares = [n for n in range(1, 11) if n % 2 == 0]\n",
        "print(pares)"
      ],
      "metadata": {
        "colab": {
          "base_uri": "https://localhost:8080/"
        },
        "id": "3ACZZonbFa_L",
        "outputId": "7e0bac3c-b055-4be8-8b8b-7c04e5e8f0fe"
      },
      "execution_count": 22,
      "outputs": [
        {
          "output_type": "stream",
          "name": "stdout",
          "text": [
            "5050\n",
            "Ingresa un texto: Godofredo\n",
            "Numero de vocales: 4\n",
            "[2, 4, 6, 8, 10]\n"
          ]
        }
      ]
    },
    {
      "cell_type": "code",
      "source": [
        "# 12. Diccionario con nombres y edades\n",
        "edades = {\"Godo\": 20, \"Pepe\": 40, \"Juan\": 50}\n",
        "nombre = input(\"Pon un nombre: \")\n",
        "print(\"Edad:\", edades.get(nombre, \"No encontrado\"))\n",
        "\n",
        "# 13. Encuentra el número más grande en una lista\n",
        "lista = [5, 8, 12, 3, 7]\n",
        "print(\"Número más grande:\", max(lista))\n",
        "\n",
        "# 14. Función que devuelve el promedio de una lista\n",
        "def promedio(lista):\n",
        "    return sum(lista) / len(lista)"
      ],
      "metadata": {
        "colab": {
          "base_uri": "https://localhost:8080/"
        },
        "id": "7-mZ2U49HDGW",
        "outputId": "4f6a94e7-4157-42a1-8c20-1ed0d9122572"
      },
      "execution_count": 16,
      "outputs": [
        {
          "output_type": "stream",
          "name": "stdout",
          "text": [
            "Pon un nombre: Godo\n",
            "Edad: 20\n",
            "Número más grande: 12\n"
          ]
        }
      ]
    },
    {
      "cell_type": "code",
      "source": [
        "# 15. Verifica si una palabra es un palíndromo\n",
        "palabra = input(\"Ingresa una palabra: \")\n",
        "print(\"Es palíndromo\" if palabra == palabra[::-1] else \"No es palíndromo\")\n",
        "\n",
        "\n",
        "# 16. Función que devuelve el número mayor entre dos números\n",
        "def mayor(a, b):\n",
        "    return max(a, b)\n",
        "\n",
        "# 17. Genera la tabla de multiplicar de un número\n",
        "tabla = int(input(\"Ingresa un número: \"))\n",
        "for i in range(1, 11):\n",
        "    print(f\"{tabla} x {i} = {tabla * i}\")\n",
        "\n"
      ],
      "metadata": {
        "colab": {
          "base_uri": "https://localhost:8080/"
        },
        "id": "0Yd0pk3cQIg6",
        "outputId": "c2a11804-4497-49d2-f87b-558da6497565"
      },
      "execution_count": 26,
      "outputs": [
        {
          "output_type": "stream",
          "name": "stdout",
          "text": [
            "Ingresa una palabra: oso\n",
            "Es palíndromo\n",
            "Ingresa un número: 7\n",
            "7 x 1 = 7\n",
            "7 x 2 = 14\n",
            "7 x 3 = 21\n",
            "7 x 4 = 28\n",
            "7 x 5 = 35\n",
            "7 x 6 = 42\n",
            "7 x 7 = 49\n",
            "7 x 8 = 56\n",
            "7 x 9 = 63\n",
            "7 x 10 = 70\n"
          ]
        }
      ]
    }
  ]
}