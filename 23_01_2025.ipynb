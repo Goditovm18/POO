{
  "nbformat": 4,
  "nbformat_minor": 0,
  "metadata": {
    "colab": {
      "provenance": []
    },
    "kernelspec": {
      "name": "python3",
      "display_name": "Python 3"
    },
    "language_info": {
      "name": "python"
    }
  },
  "cells": [
    {
      "cell_type": "markdown",
      "source": [],
      "metadata": {
        "id": "j_NMZz13twGe"
      }
    },
    {
      "cell_type": "code",
      "execution_count": null,
      "metadata": {
        "id": "ZUe9tNb_pFsN"
      },
      "outputs": [],
      "source": []
    },
    {
      "cell_type": "markdown",
      "source": [
        "# Introduccion a Python\n",
        "{Guido Van Rossum, un programador de computación de los Países Bajos, creó Python. Python comenzó en 1989 en el Centrum Wiskunde & Informatica (CWI), en principio como un proyecto de afición para mantenerse ocupado durante las vacaciones de Navidad. El nombre del lenguaje se inspiró en el programa de televisión de la BBC “Monty Python’s Flying Circus” debido a que Guido Van Rossum era un gran aficionado del programa.}\n",
        "## ¿Que veremos hoy?\n",
        "\n",
        "\n",
        "1.   Objeto\n",
        "2.   Variable\n",
        "3.   Ejemplo\n",
        "\n",
        "\n"
      ],
      "metadata": {
        "id": "pE4QfWTPp-d_"
      }
    },
    {
      "cell_type": "code",
      "source": [],
      "metadata": {
        "id": "ejB9sNuItlxa"
      },
      "execution_count": null,
      "outputs": []
    },
    {
      "cell_type": "markdown",
      "source": [
        "Nota: en este procesador de texto, se puede escribir en html y en latex.\n",
        "Por ejemplo vamos a escribir la ecuacón mas hermosa de todas.\n",
        "$$e^{i\\pi}+1=0$$\n"
      ],
      "metadata": {
        "id": "M4u-7VB7tx-X"
      }
    },
    {
      "cell_type": "markdown",
      "source": [
        "Otro Ejemplo\n",
        "latex\n",
        "\\begin{bmatrix}\n",
        "a & b \\\\\n",
        "c & d\n",
        "\\end{bmatrix}"
      ],
      "metadata": {
        "id": "kCMfciUDws1v"
      }
    },
    {
      "cell_type": "markdown",
      "source": [
        "### Algunos objetos en Python\n",
        "\n",
        "\n",
        "\n",
        "1.   Int y float (enteros y flotantes)\n",
        "2.   str (\"string\")\n",
        "3.   Conjuntos y Listas\n",
        "\n",
        "\n",
        "---\n",
        "\n",
        "**La funcion `print` y la funcion `type`**\n",
        "\n",
        "\n",
        "\n",
        "\n"
      ],
      "metadata": {
        "id": "9ZOxIm9m6p_2"
      }
    },
    {
      "cell_type": "code",
      "source": [
        "# vamos a imprimir Hola Mundo!\n",
        "\"Hola Mundo!\""
      ],
      "metadata": {
        "colab": {
          "base_uri": "https://localhost:8080/",
          "height": 35
        },
        "id": "LDD_RQ3m9R5k",
        "outputId": "8ad0ffd6-1877-44d3-b30b-4f974825d265"
      },
      "execution_count": 1,
      "outputs": [
        {
          "output_type": "execute_result",
          "data": {
            "text/plain": [
              "'Hola Mundo!'"
            ],
            "application/vnd.google.colaboratory.intrinsic+json": {
              "type": "string"
            }
          },
          "metadata": {},
          "execution_count": 1
        }
      ]
    },
    {
      "cell_type": "code",
      "source": [
        "print(\"Godo\")\n",
        "\n",
        "print(\"Hola a todos!\")\n",
        "\n"
      ],
      "metadata": {
        "colab": {
          "base_uri": "https://localhost:8080/"
        },
        "id": "DzqGHgeU-4ab",
        "outputId": "c75db867-4310-4258-c6eb-05fda9e10027"
      },
      "execution_count": 4,
      "outputs": [
        {
          "output_type": "stream",
          "name": "stdout",
          "text": [
            "Godo\n",
            "Hola a todos!\n"
          ]
        }
      ]
    },
    {
      "cell_type": "markdown",
      "source": [
        "### Operaciones basicas en int o float\n",
        "\n",
        "\n",
        "*   $+, -$ Suma y Resta\n",
        "*   $*, /, **$ Multiplicación, dividir y potenciación.\n",
        "*   $ \\% $ Operacion modular.\n",
        "*   $//$División al piso\n",
        "\n",
        "\n",
        "\n",
        "\n",
        "\n",
        "\n"
      ],
      "metadata": {
        "id": "qaFRmDV6AEQp"
      }
    },
    {
      "cell_type": "markdown",
      "source": [
        "**Creacion de variables**\n",
        "\n",
        "nombre = objeto"
      ],
      "metadata": {
        "id": "oZoXAeNIE5-O"
      }
    },
    {
      "cell_type": "code",
      "source": [
        "# vamos a crear 2 variables\n",
        "\n",
        "x = 7\n",
        "y = 3"
      ],
      "metadata": {
        "id": "H7K88_BJEacs"
      },
      "execution_count": 7,
      "outputs": []
    },
    {
      "cell_type": "code",
      "source": [
        "# Operaciones\n",
        "print(f\"La suma entre {x} y {y} es {x+y}\")\n",
        "print(f\"La potenciacion entre {x} y {y} es {x**y}\")\n",
        "print(f\"El residuo entre {x} y {y} es {x%y}\")\n",
        "print(f\"La division al piso entre {x} y {y} es {x//y}\")"
      ],
      "metadata": {
        "colab": {
          "base_uri": "https://localhost:8080/"
        },
        "id": "T1yzrNRlGA5u",
        "outputId": "c8ba942b-e149-4bc5-aad6-f20705290c1a"
      },
      "execution_count": 8,
      "outputs": [
        {
          "output_type": "stream",
          "name": "stdout",
          "text": [
            "La suma entre 7 y 3 es 10\n",
            "La potenciacion entre 7 y 3 es 343\n",
            "El residuo entre 7 y 3 es 1\n",
            "La division entre 7 y 3 es 2\n"
          ]
        }
      ]
    },
    {
      "cell_type": "code",
      "source": [
        "# La funcion type nos dice el tipo de objeto\n",
        "\n",
        "type(x/y), type(\"Godo\")"
      ],
      "metadata": {
        "colab": {
          "base_uri": "https://localhost:8080/"
        },
        "id": "V5FSsq9dInd3",
        "outputId": "29f4ba2b-d4f9-4b93-8290-b8a70f2cfa72"
      },
      "execution_count": 9,
      "outputs": [
        {
          "output_type": "execute_result",
          "data": {
            "text/plain": [
              "(float, str)"
            ]
          },
          "metadata": {},
          "execution_count": 9
        }
      ]
    },
    {
      "cell_type": "code",
      "source": [],
      "metadata": {
        "id": "TGepEG2oI6pI"
      },
      "execution_count": null,
      "outputs": []
    }
  ]
}