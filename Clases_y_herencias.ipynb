{
  "nbformat": 4,
  "nbformat_minor": 0,
  "metadata": {
    "colab": {
      "provenance": []
    },
    "kernelspec": {
      "name": "python3",
      "display_name": "Python 3"
    },
    "language_info": {
      "name": "python"
    }
  },
  "cells": [
    {
      "cell_type": "markdown",
      "source": [
        "#Clases y herencias\n"
      ],
      "metadata": {
        "id": "X-bipJCRKmTw"
      }
    },
    {
      "cell_type": "markdown",
      "source": [
        "¿Que es una clase?\n",
        "Es una serie de grupos que te ayuda a juntar un sistema entero\n"
      ],
      "metadata": {
        "id": "UvytR1raKsmE"
      }
    },
    {
      "cell_type": "code",
      "execution_count": 2,
      "metadata": {
        "id": "CHR1olBQzmPC"
      },
      "outputs": [],
      "source": [
        "class Alvaro():\n",
        "  pass"
      ]
    },
    {
      "cell_type": "code",
      "source": [
        "Alvaro()"
      ],
      "metadata": {
        "colab": {
          "base_uri": "https://localhost:8080/"
        },
        "id": "nGbA4o-1KWLM",
        "outputId": "eaf317b6-0e43-4619-d6b0-5451be344b50"
      },
      "execution_count": 3,
      "outputs": [
        {
          "output_type": "execute_result",
          "data": {
            "text/plain": [
              "<__main__.Alvaro at 0x7f72b7ac9550>"
            ]
          },
          "metadata": {},
          "execution_count": 3
        }
      ]
    },
    {
      "cell_type": "code",
      "source": [
        "# Vamos a crear una clase que se llamará Alvaro\n",
        "\n",
        "class Alvaro:\n",
        "  def __init__(self,edad,bff,Ceci):\n",
        "    self.edad = edad\n",
        "    self.bff= bff\n",
        "    self.Ceci = Ceci\n",
        "\n",
        "\n",
        "  def saludar(self):\n",
        "    print(f\"A los {self.edad} conoci a mi amigo {self.bff}\")\n",
        "\n",
        "  def chisme(self):\n",
        "    print(f\"Alvaro esta en el chisme con {self.bff} y con {self.Ceci}\")\n",
        "\n",
        ""
      ],
      "metadata": {
        "id": "KBRt8FRGK5Ew"
      },
      "execution_count": 36,
      "outputs": []
    },
    {
      "cell_type": "code",
      "source": [
        "avo = Alvaro (19, \"Jaume\",\"Ceci\")"
      ],
      "metadata": {
        "id": "CFJzX168Qg3Y"
      },
      "execution_count": 37,
      "outputs": []
    },
    {
      "cell_type": "code",
      "source": [
        "#¿Cuales son los argumentos de la clase?\n",
        "\n",
        "avo.edad ,avo.bff"
      ],
      "metadata": {
        "colab": {
          "base_uri": "https://localhost:8080/"
        },
        "id": "UC6r2qofSBgB",
        "outputId": "d5c785ec-6dce-4819-c1d6-4843ecd0c3c3"
      },
      "execution_count": 38,
      "outputs": [
        {
          "output_type": "execute_result",
          "data": {
            "text/plain": [
              "(19, 'Jaume')"
            ]
          },
          "metadata": {},
          "execution_count": 38
        }
      ]
    },
    {
      "cell_type": "code",
      "source": [
        "avo.saludar()"
      ],
      "metadata": {
        "colab": {
          "base_uri": "https://localhost:8080/"
        },
        "id": "wrscf3qdTNmJ",
        "outputId": "b8a52e4f-b83f-48ee-e75d-31911d992ed1"
      },
      "execution_count": 39,
      "outputs": [
        {
          "output_type": "stream",
          "name": "stdout",
          "text": [
            "A los 19 conoci a mi amigo Jaume\n"
          ]
        }
      ]
    },
    {
      "cell_type": "code",
      "source": [
        "#Que esta haciendo alvaro?\n",
        "\n",
        "avo.chisme()"
      ],
      "metadata": {
        "colab": {
          "base_uri": "https://localhost:8080/"
        },
        "id": "athT0dtwUIEY",
        "outputId": "75c7fbc2-3f4c-4040-dfc2-cd8def9abca6"
      },
      "execution_count": 40,
      "outputs": [
        {
          "output_type": "stream",
          "name": "stdout",
          "text": [
            "Alvaro esta en el chisme con Jaume y con Ceci\n"
          ]
        }
      ]
    }
  ]
}