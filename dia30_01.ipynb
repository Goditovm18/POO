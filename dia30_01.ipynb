{
  "nbformat": 4,
  "nbformat_minor": 0,
  "metadata": {
    "colab": {
      "provenance": []
    },
    "kernelspec": {
      "name": "python3",
      "display_name": "Python 3"
    },
    "language_info": {
      "name": "python"
    }
  },
  "cells": [
    {
      "cell_type": "markdown",
      "source": [
        "##Listas y arreglos"
      ],
      "metadata": {
        "id": "Pcv_t83U-Q0O"
      }
    },
    {
      "cell_type": "markdown",
      "source": [
        "Si $A$ un conjunto, sea $a\\in A$"
      ],
      "metadata": {
        "id": "pdNBfh3C_FjY"
      }
    },
    {
      "cell_type": "code",
      "execution_count": 7,
      "metadata": {
        "colab": {
          "base_uri": "https://localhost:8080/"
        },
        "id": "Y-VVO4lL-OTn",
        "outputId": "fb56e46c-ddb1-46bd-990c-4075b43b5dcb"
      },
      "outputs": [
        {
          "output_type": "stream",
          "name": "stdout",
          "text": [
            "Etiquetas: [0, 1, 2, 3, 4, 5, 6, 7, 8, 9, 10, 11, 12, 13, 14, 15, 16, 17, 18, 19, 20]\n",
            "Multiplos_3: [0, 3, 6, 9, 12, 15, 18]\n"
          ]
        }
      ],
      "source": [
        "#\n",
        "\n",
        "Indices= [i for i in range(21) ]\n",
        "print(f\"Etiquetas: {Indices}\")\n",
        "\n",
        "Multiplos_3= [i for i in range(21) if i%3==0]\n",
        "print(f\"Multiplos_3: {Multiplos_3}\")"
      ]
    },
    {
      "cell_type": "markdown",
      "source": [
        "##Se pone print f porque es el formato para llamar a la variable\n"
      ],
      "metadata": {
        "id": "zLCYTos4CfxD"
      }
    },
    {
      "cell_type": "code",
      "source": [
        "print(f\"estasn son las etiquetas en Python {Indices} \")\n",
        "print(\"Indices\")"
      ],
      "metadata": {
        "colab": {
          "base_uri": "https://localhost:8080/"
        },
        "id": "hMmo7v4HBSKF",
        "outputId": "adc6fd7f-a2dc-471f-a7a5-dceea7f06530"
      },
      "execution_count": 9,
      "outputs": [
        {
          "output_type": "stream",
          "name": "stdout",
          "text": [
            "estasn son las etiquetas en Python [0, 1, 2, 3, 4, 5, 6, 7, 8, 9, 10, 11, 12, 13, 14, 15, 16, 17, 18, 19, 20] \n",
            "Indices\n"
          ]
        }
      ]
    },
    {
      "cell_type": "markdown",
      "source": [
        "##Ingresos"
      ],
      "metadata": {
        "id": "lKikWQ4TEd30"
      }
    },
    {
      "cell_type": "code",
      "source": [
        "Ceci = []\n",
        "\n",
        "Ceci.append(18)"
      ],
      "metadata": {
        "id": "pEMnRZ1tEgAb"
      },
      "execution_count": 16,
      "outputs": []
    },
    {
      "cell_type": "code",
      "source": [
        "Ceci.insert(1,\"Violin\",)"
      ],
      "metadata": {
        "id": "zktnejCnF9j-"
      },
      "execution_count": 27,
      "outputs": []
    },
    {
      "cell_type": "code",
      "source": [
        "Ceci"
      ],
      "metadata": {
        "colab": {
          "base_uri": "https://localhost:8080/"
        },
        "id": "C2Swknp9GhpA",
        "outputId": "3c2b8b72-9932-457b-efe2-a9f7a051596c"
      },
      "execution_count": 28,
      "outputs": [
        {
          "output_type": "execute_result",
          "data": {
            "text/plain": [
              "[18, 'Violin', 'Violin', 'Violin', 'Violin', 'perro']"
            ]
          },
          "metadata": {},
          "execution_count": 28
        }
      ]
    },
    {
      "cell_type": "code",
      "source": [
        "Ceci.insert(2,\"1.62\")"
      ],
      "metadata": {
        "id": "9ETiVGaVHhcu"
      },
      "execution_count": 33,
      "outputs": []
    },
    {
      "cell_type": "code",
      "source": [
        "Ceci"
      ],
      "metadata": {
        "colab": {
          "base_uri": "https://localhost:8080/"
        },
        "id": "LKIbYXOIHuzv",
        "outputId": "a1b1198d-539b-45ef-bb4e-f9044f536cdb"
      },
      "execution_count": 31,
      "outputs": [
        {
          "output_type": "execute_result",
          "data": {
            "text/plain": [
              "[18, 'Violin', 'Violin', '1.62', 'Violin', 'Violin', 'perro']"
            ]
          },
          "metadata": {},
          "execution_count": 31
        }
      ]
    },
    {
      "cell_type": "code",
      "source": [
        "Ceci.insert(4,\"perro\")"
      ],
      "metadata": {
        "id": "mVoj_Ql4G1tB"
      },
      "execution_count": 24,
      "outputs": []
    },
    {
      "cell_type": "code",
      "source": [
        "Ceci[0]"
      ],
      "metadata": {
        "colab": {
          "base_uri": "https://localhost:8080/"
        },
        "id": "fOCOhG5uHOyR",
        "outputId": "f49c79d4-7dc3-4a4b-c4ca-1be547cab89e"
      },
      "execution_count": 40,
      "outputs": [
        {
          "output_type": "execute_result",
          "data": {
            "text/plain": [
              "18"
            ]
          },
          "metadata": {},
          "execution_count": 40
        }
      ]
    },
    {
      "cell_type": "code",
      "source": [
        "Ceci[0:4]"
      ],
      "metadata": {
        "colab": {
          "base_uri": "https://localhost:8080/"
        },
        "id": "uJjMSctqL9mY",
        "outputId": "a0db89a4-2e48-40d5-b640-8885fa3936a3"
      },
      "execution_count": 42,
      "outputs": [
        {
          "output_type": "execute_result",
          "data": {
            "text/plain": [
              "[18, 'Violin', '1.62', 'Violin']"
            ]
          },
          "metadata": {},
          "execution_count": 42
        }
      ]
    },
    {
      "cell_type": "code",
      "source": [
        "Indices[0::3]"
      ],
      "metadata": {
        "colab": {
          "base_uri": "https://localhost:8080/"
        },
        "id": "MwVJhZFVMoQO",
        "outputId": "245aeeea-05dd-4505-e4e1-3b505fe8bb06"
      },
      "execution_count": 43,
      "outputs": [
        {
          "output_type": "execute_result",
          "data": {
            "text/plain": [
              "[0, 3, 6, 9, 12, 15, 18]"
            ]
          },
          "metadata": {},
          "execution_count": 43
        }
      ]
    }
  ]
}