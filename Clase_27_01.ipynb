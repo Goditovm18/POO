{
  "nbformat": 4,
  "nbformat_minor": 0,
  "metadata": {
    "colab": {
      "provenance": []
    },
    "kernelspec": {
      "name": "python3",
      "display_name": "Python 3"
    },
    "language_info": {
      "name": "python"
    }
  },
  "cells": [
    {
      "cell_type": "markdown",
      "source": [
        "## Conjuntos y listas\n",
        "\n",
        "- Conjuntos finitos:\n",
        "$$\\{ob_1, ob_2, \\dots, ob_n \\}$$\n",
        "\n",
        "-Listas finitas:\n",
        "$$[l_1, l_2,\\dots, l_n]$$"
      ],
      "metadata": {
        "id": "4LZnHrkjcM7Y"
      }
    },
    {
      "cell_type": "markdown",
      "source": [
        "En Python, existe la función `range(a,b)`  donde $a,b\\geq 0$"
      ],
      "metadata": {
        "id": "3OF9nh9neM0d"
      }
    },
    {
      "cell_type": "code",
      "execution_count": 1,
      "metadata": {
        "colab": {
          "base_uri": "https://localhost:8080/"
        },
        "id": "bx0B6zDtbYaP",
        "outputId": "d3b3a2f3-e4d6-4b31-fd41-9bf0bcd7013d"
      },
      "outputs": [
        {
          "output_type": "execute_result",
          "data": {
            "text/plain": [
              "range(0, 10)"
            ]
          },
          "metadata": {},
          "execution_count": 1
        }
      ],
      "source": [
        "range(10)"
      ]
    },
    {
      "cell_type": "markdown",
      "source": [
        "¿Como puedo ver a los elementos de este generador de indices?\n"
      ],
      "metadata": {
        "id": "yBWFS4snfVMK"
      }
    },
    {
      "cell_type": "code",
      "source": [
        "for i in range(10) :\n",
        "  print (i)"
      ],
      "metadata": {
        "colab": {
          "base_uri": "https://localhost:8080/"
        },
        "id": "81wPBobrfC3e",
        "outputId": "9a8929fc-987e-4711-af53-a5a51a40fd56"
      },
      "execution_count": 4,
      "outputs": [
        {
          "output_type": "stream",
          "name": "stdout",
          "text": [
            "0\n",
            "1\n",
            "2\n",
            "3\n",
            "4\n",
            "5\n",
            "6\n",
            "7\n",
            "8\n",
            "9\n"
          ]
        }
      ]
    },
    {
      "cell_type": "code",
      "source": [
        "# Vamos a contruir dos conjuntos\n",
        "\n",
        "Pares = {i for i in range(21)if i%2==0}\n",
        "print(f\"Pares:{Pares}\")\n",
        "\n",
        "Impares = {i for i in range(21)if i%2==1}\n",
        "print(f\"Impares: {Impares}\")"
      ],
      "metadata": {
        "colab": {
          "base_uri": "https://localhost:8080/"
        },
        "id": "q6fbLcc0gsIE",
        "outputId": "7fa427c3-f4da-4cf7-c9de-61b9d4374996"
      },
      "execution_count": 9,
      "outputs": [
        {
          "output_type": "stream",
          "name": "stdout",
          "text": [
            "Pares:{0, 2, 4, 6, 8, 10, 12, 14, 16, 18, 20}\n",
            "Impares: {1, 3, 5, 7, 9, 11, 13, 15, 17, 19}\n"
          ]
        }
      ]
    },
    {
      "cell_type": "code",
      "source": [
        "C={17, 7, 27, 19,77,56,8,12,10,13,20,16}\n",
        "C, type(C)"
      ],
      "metadata": {
        "colab": {
          "base_uri": "https://localhost:8080/"
        },
        "id": "y_fBa_67izE-",
        "outputId": "d6e40ac8-447d-44a0-c68b-b6b16aa0bba5"
      },
      "execution_count": 10,
      "outputs": [
        {
          "output_type": "execute_result",
          "data": {
            "text/plain": [
              "({7, 8, 10, 12, 13, 16, 17, 19, 20, 27, 56, 77}, set)"
            ]
          },
          "metadata": {},
          "execution_count": 10
        }
      ]
    },
    {
      "cell_type": "markdown",
      "source": [
        "## Los objetos en Python tiene atributos"
      ],
      "metadata": {
        "id": "5Jhmo6Oaj_MU"
      }
    },
    {
      "cell_type": "code",
      "source": [
        "Pares.intersection(Impares)# El conjunto vacio"
      ],
      "metadata": {
        "colab": {
          "base_uri": "https://localhost:8080/"
        },
        "id": "IevIW5Xjj-OW",
        "outputId": "6b6922d6-fd60-45bc-be4e-ed0d4b040c28"
      },
      "execution_count": 11,
      "outputs": [
        {
          "output_type": "execute_result",
          "data": {
            "text/plain": [
              "set()"
            ]
          },
          "metadata": {},
          "execution_count": 11
        }
      ]
    },
    {
      "cell_type": "code",
      "source": [
        "Pares.union(Impares)"
      ],
      "metadata": {
        "colab": {
          "base_uri": "https://localhost:8080/"
        },
        "id": "E7-6p-OLkRd3",
        "outputId": "99b1e2cb-c38c-49b9-d939-44494e115a25"
      },
      "execution_count": 12,
      "outputs": [
        {
          "output_type": "execute_result",
          "data": {
            "text/plain": [
              "{0, 1, 2, 3, 4, 5, 6, 7, 8, 9, 10, 11, 12, 13, 14, 15, 16, 17, 18, 19, 20}"
            ]
          },
          "metadata": {},
          "execution_count": 12
        }
      ]
    },
    {
      "cell_type": "code",
      "source": [
        "Impares.difference(C) #Quitando los elementos de C a los Impares\n"
      ],
      "metadata": {
        "colab": {
          "base_uri": "https://localhost:8080/"
        },
        "id": "To7JadOwkgaF",
        "outputId": "92abbd3f-5f01-4cf8-f945-028986a70cec"
      },
      "execution_count": 15,
      "outputs": [
        {
          "output_type": "execute_result",
          "data": {
            "text/plain": [
              "{1, 3, 5, 9, 11, 15}"
            ]
          },
          "metadata": {},
          "execution_count": 15
        }
      ]
    },
    {
      "cell_type": "markdown",
      "source": [
        "##Listas"
      ],
      "metadata": {
        "id": "uYp87ncKlcGy"
      }
    },
    {
      "cell_type": "code",
      "source": [
        "Lista_Pares = list(Pares)\n",
        "Lista_Pares"
      ],
      "metadata": {
        "colab": {
          "base_uri": "https://localhost:8080/"
        },
        "id": "UXeccPtHlEEN",
        "outputId": "3f31f600-b14c-47fd-ef69-64ddd49acaa3"
      },
      "execution_count": 16,
      "outputs": [
        {
          "output_type": "execute_result",
          "data": {
            "text/plain": [
              "[0, 2, 4, 6, 8, 10, 12, 14, 16, 18, 20]"
            ]
          },
          "metadata": {},
          "execution_count": 16
        }
      ]
    },
    {
      "cell_type": "code",
      "source": [],
      "metadata": {
        "id": "PWRZPGOsmPnt"
      },
      "execution_count": null,
      "outputs": []
    }
  ]
}