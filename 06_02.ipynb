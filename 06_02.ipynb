{
  "nbformat": 4,
  "nbformat_minor": 0,
  "metadata": {
    "colab": {
      "provenance": []
    },
    "kernelspec": {
      "name": "python3",
      "display_name": "Python 3"
    },
    "language_info": {
      "name": "python"
    }
  },
  "cells": [
    {
      "cell_type": "markdown",
      "source": [
        "#Arreglos y clases\n",
        "\n",
        "##Matrices\n",
        "Una matriz es un arreglo de N por M elementos\n",
        "A = \\begin{bmatrix}\n",
        "a_{11} & a_{12} & \\dots & a_{1N} \\\\\n",
        "a_{21} & a_{22} & \\dots & a_{2N} \\\\\n",
        "\\vdots & \\vdots & \\ddots & \\vdots \\\\\n",
        "a_{M1} & a_{M2} & \\dots & a_{MN}\n",
        "\\end{bmatrix}\n"
      ],
      "metadata": {
        "id": "G3sxMQYLu329"
      }
    },
    {
      "cell_type": "code",
      "execution_count": 7,
      "metadata": {
        "colab": {
          "base_uri": "https://localhost:8080/"
        },
        "id": "7cOqLqMAumyi",
        "outputId": "35f1463e-b76c-4923-e417-deec7857843e"
      },
      "outputs": [
        {
          "output_type": "stream",
          "name": "stdout",
          "text": [
            "[[1, 2, 3], [4, 5, 6], [7, 8, 9]]\n"
          ]
        }
      ],
      "source": [
        "#Vamos a crear una lista de listas\n",
        "A=[[1,2,3],[4,5,6],[7,8,9]]\n",
        "print (A)"
      ]
    },
    {
      "cell_type": "code",
      "source": [
        "# Vamos a crear otra lista\n",
        "B=[[21,34,40],[71,17,77],[73,81,28]]\n",
        "print (B)"
      ],
      "metadata": {
        "colab": {
          "base_uri": "https://localhost:8080/"
        },
        "id": "YTpQS1I4x7XT",
        "outputId": "327aaf7f-20dd-4773-9c7c-6d9c0c7c72f8"
      },
      "execution_count": 10,
      "outputs": [
        {
          "output_type": "stream",
          "name": "stdout",
          "text": [
            "[[21, 34, 40], [71, 17, 77], [73, 81, 28]]\n"
          ]
        }
      ]
    },
    {
      "cell_type": "code",
      "source": [
        "A+B"
      ],
      "metadata": {
        "colab": {
          "base_uri": "https://localhost:8080/"
        },
        "id": "SjbEw7WNyo6e",
        "outputId": "8990a253-e565-4e60-d3c2-af837e28aae7"
      },
      "execution_count": 11,
      "outputs": [
        {
          "output_type": "execute_result",
          "data": {
            "text/plain": [
              "[[1, 2, 3], [4, 5, 6], [7, 8, 9], [21, 34, 40], [71, 17, 77], [73, 81, 28]]"
            ]
          },
          "metadata": {},
          "execution_count": 11
        }
      ]
    },
    {
      "cell_type": "code",
      "source": [
        "2*A"
      ],
      "metadata": {
        "colab": {
          "base_uri": "https://localhost:8080/"
        },
        "id": "LNtnQRW_y9zM",
        "outputId": "c9b2e397-17e4-4cea-b140-85b5d807cfe6"
      },
      "execution_count": 12,
      "outputs": [
        {
          "output_type": "execute_result",
          "data": {
            "text/plain": [
              "[[1, 2, 3], [4, 5, 6], [7, 8, 9], [1, 2, 3], [4, 5, 6], [7, 8, 9]]"
            ]
          },
          "metadata": {},
          "execution_count": 12
        }
      ]
    },
    {
      "cell_type": "code",
      "source": [
        "A[0][0]\n",
        "[1,2,3]\n",
        "#A[0,0] este no se puede poner tiene que usar los 2 corchetes como arriba"
      ],
      "metadata": {
        "colab": {
          "base_uri": "https://localhost:8080/"
        },
        "id": "rVrdww9GzvH0",
        "outputId": "267612a4-5cad-4813-d42f-10e1717ce2df"
      },
      "execution_count": 17,
      "outputs": [
        {
          "output_type": "execute_result",
          "data": {
            "text/plain": [
              "[1, 2, 3]"
            ]
          },
          "metadata": {},
          "execution_count": 17
        }
      ]
    },
    {
      "cell_type": "markdown",
      "source": [
        "##Vectores y listas"
      ],
      "metadata": {
        "id": "b9scQM5j05zM"
      }
    },
    {
      "cell_type": "code",
      "source": [
        "L=A[0]\n",
        "M=B[0]\n",
        "print (L)\n",
        "print (M)\n",
        "L+M"
      ],
      "metadata": {
        "colab": {
          "base_uri": "https://localhost:8080/"
        },
        "id": "QmK-fXQX04oA",
        "outputId": "547e8d0e-51f5-4fd7-f67b-058fc52bf1fe"
      },
      "execution_count": 20,
      "outputs": [
        {
          "output_type": "stream",
          "name": "stdout",
          "text": [
            "[1, 2, 3]\n",
            "[21, 34, 40]\n"
          ]
        },
        {
          "output_type": "execute_result",
          "data": {
            "text/plain": [
              "[1, 2, 3, 21, 34, 40]"
            ]
          },
          "metadata": {},
          "execution_count": 20
        }
      ]
    },
    {
      "cell_type": "code",
      "source": [
        "a=L[0]\n",
        "b=M[0]\n",
        "a+b"
      ],
      "metadata": {
        "colab": {
          "base_uri": "https://localhost:8080/"
        },
        "id": "CJ_KINfT1pzj",
        "outputId": "ed8bfdd1-76b4-4ef1-ebe6-2c0e14137061"
      },
      "execution_count": 22,
      "outputs": [
        {
          "output_type": "execute_result",
          "data": {
            "text/plain": [
              "22"
            ]
          },
          "metadata": {},
          "execution_count": 22
        }
      ]
    },
    {
      "cell_type": "code",
      "source": [
        "a==1"
      ],
      "metadata": {
        "colab": {
          "base_uri": "https://localhost:8080/"
        },
        "id": "ugWdomgP19eX",
        "outputId": "b8b9e898-1eed-4e14-de30-2c4bfa7e22ce"
      },
      "execution_count": 23,
      "outputs": [
        {
          "output_type": "execute_result",
          "data": {
            "text/plain": [
              "True"
            ]
          },
          "metadata": {},
          "execution_count": 23
        }
      ]
    },
    {
      "cell_type": "markdown",
      "source": [
        "### Suma de \"vectores\""
      ],
      "metadata": {
        "id": "IFaj-Fa23g9Y"
      }
    },
    {
      "cell_type": "code",
      "source": [
        "len(L)==len(M)\n"
      ],
      "metadata": {
        "colab": {
          "base_uri": "https://localhost:8080/"
        },
        "id": "EAD9xHSt4Ji9",
        "outputId": "a5d44b3f-84d9-4214-f4de-73491b6861c6"
      },
      "execution_count": 24,
      "outputs": [
        {
          "output_type": "execute_result",
          "data": {
            "text/plain": [
              "True"
            ]
          },
          "metadata": {},
          "execution_count": 24
        }
      ]
    },
    {
      "cell_type": "code",
      "source": [
        "suma= [L[0]+M[0],L[1]+M[1],L[2]+M[2]]\n",
        "suma"
      ],
      "metadata": {
        "colab": {
          "base_uri": "https://localhost:8080/"
        },
        "id": "khxtgK1b4fHy",
        "outputId": "725e3f4a-c857-4e9d-a751-7f74b3c07d45"
      },
      "execution_count": 27,
      "outputs": [
        {
          "output_type": "execute_result",
          "data": {
            "text/plain": [
              "[22, 36, 43]"
            ]
          },
          "metadata": {},
          "execution_count": 27
        }
      ]
    },
    {
      "cell_type": "code",
      "source": [
        "suma=[L[i]+M[i]for i in range(3)]"
      ],
      "metadata": {
        "id": "suZXZZVS41DP"
      },
      "execution_count": 28,
      "outputs": []
    },
    {
      "cell_type": "code",
      "source": [],
      "metadata": {
        "id": "-9Quc5C_DgDd"
      },
      "execution_count": null,
      "outputs": []
    },
    {
      "cell_type": "markdown",
      "source": [
        "#### Creacción de funciones globales\n",
        "\n",
        "La funcion para crear funciones es `def` que se cierra con un debug (print o `return`)"
      ],
      "metadata": {
        "id": "zNJKIecRDtsE"
      }
    },
    {
      "cell_type": "code",
      "source": [
        "def Hola():\n",
        "  print(\"Hola, me llamo Godo\")"
      ],
      "metadata": {
        "id": "Wp0T7aQoEVEd"
      },
      "execution_count": 31,
      "outputs": []
    },
    {
      "cell_type": "code",
      "source": [
        "Hola()"
      ],
      "metadata": {
        "colab": {
          "base_uri": "https://localhost:8080/"
        },
        "id": "0lOcUU6fEs8_",
        "outputId": "a9665819-c4b5-44e4-da59-9e05f6dd8124"
      },
      "execution_count": 32,
      "outputs": [
        {
          "output_type": "stream",
          "name": "stdout",
          "text": [
            "Hola, me llamo Godo\n"
          ]
        }
      ]
    },
    {
      "cell_type": "code",
      "source": [
        "def saludar(s,n):\n",
        "  print(f\"Hola, me llamo {s} y tengo {n} años\")#la f sirve para darle el formato de la variable a lo que quieras poner"
      ],
      "metadata": {
        "id": "eTUmtRq7F8VJ"
      },
      "execution_count": 36,
      "outputs": []
    },
    {
      "cell_type": "code",
      "source": [
        "saludar(\"Godo\", 20)"
      ],
      "metadata": {
        "colab": {
          "base_uri": "https://localhost:8080/"
        },
        "id": "IsJJZepwGOA2",
        "outputId": "cd5ea658-cc2a-4939-d49a-751b26aa5e9e"
      },
      "execution_count": 37,
      "outputs": [
        {
          "output_type": "stream",
          "name": "stdout",
          "text": [
            "Hola, me llamo Godo y tengo 20 años\n"
          ]
        }
      ]
    },
    {
      "cell_type": "code",
      "source": [
        "def par(x):\n",
        "  for x in range(10): #for es para crer un rango\n",
        "    if x%2==0:\n",
        "      print(f\"{x} es par\")\n",
        "    else: #else es para indicar lo contrareo de lo que queriamos\n",
        "      print(f\"{x}es impar\")"
      ],
      "metadata": {
        "id": "myssslP4G0yB"
      },
      "execution_count": 41,
      "outputs": []
    },
    {
      "cell_type": "code",
      "source": [
        "par(20)"
      ],
      "metadata": {
        "colab": {
          "base_uri": "https://localhost:8080/"
        },
        "id": "2jjsRmkKIXuw",
        "outputId": "3b29321f-412f-4ccb-b882-cd8397d9ce83"
      },
      "execution_count": 42,
      "outputs": [
        {
          "output_type": "stream",
          "name": "stdout",
          "text": [
            "0 es par\n",
            "1es impar\n",
            "2 es par\n",
            "3es impar\n",
            "4 es par\n",
            "5es impar\n",
            "6 es par\n",
            "7es impar\n",
            "8 es par\n",
            "9es impar\n"
          ]
        }
      ]
    },
    {
      "cell_type": "code",
      "source": [
        "def suma_vectorial(L,M):\n",
        "  x=[L[i]+M[i] for i in range(len(L))] #\n",
        "  return x"
      ],
      "metadata": {
        "id": "7LS00PJKLB71"
      },
      "execution_count": 43,
      "outputs": []
    },
    {
      "cell_type": "code",
      "source": [
        "L=[1,2,3]\n",
        "M=[21,34,40]\n",
        "\n",
        "suma_vectorial(L,M)# con esto sumamos los vectores de L y M"
      ],
      "metadata": {
        "colab": {
          "base_uri": "https://localhost:8080/"
        },
        "id": "bEvTWowJL24p",
        "outputId": "e24f4938-143e-4da6-b81b-3eba855c4ee7"
      },
      "execution_count": 44,
      "outputs": [
        {
          "output_type": "execute_result",
          "data": {
            "text/plain": [
              "[22, 36, 43]"
            ]
          },
          "metadata": {},
          "execution_count": 44
        }
      ]
    },
    {
      "cell_type": "markdown",
      "source": [
        "## Modulos o librerias"
      ],
      "metadata": {
        "id": "g6dGEVRUMkKD"
      }
    },
    {
      "cell_type": "code",
      "source": [
        "import math\n",
        "from math import sqrt, pi"
      ],
      "metadata": {
        "id": "ZfEMZoK4NcRK"
      },
      "execution_count": 45,
      "outputs": []
    },
    {
      "cell_type": "code",
      "source": [
        "sqrt(68)"
      ],
      "metadata": {
        "colab": {
          "base_uri": "https://localhost:8080/"
        },
        "id": "Nu6W1l-lOEVd",
        "outputId": "0d3d1a26-7c49-4cf0-e695-f133169fad50"
      },
      "execution_count": 46,
      "outputs": [
        {
          "output_type": "execute_result",
          "data": {
            "text/plain": [
              "8.246211251235321"
            ]
          },
          "metadata": {},
          "execution_count": 46
        }
      ]
    },
    {
      "cell_type": "code",
      "source": [
        "pi"
      ],
      "metadata": {
        "colab": {
          "base_uri": "https://localhost:8080/"
        },
        "id": "IQOXvSB0OIWT",
        "outputId": "589c5920-4448-4c86-f7f5-0ec672593628"
      },
      "execution_count": 47,
      "outputs": [
        {
          "output_type": "execute_result",
          "data": {
            "text/plain": [
              "3.141592653589793"
            ]
          },
          "metadata": {},
          "execution_count": 47
        }
      ]
    },
    {
      "cell_type": "markdown",
      "source": [
        "#El modulo Numpy\n",
        "\n",
        "\n",
        "La funcion array"
      ],
      "metadata": {
        "id": "dnQ57UudOMp3"
      }
    },
    {
      "cell_type": "code",
      "source": [
        "import numpy as np\n",
        "\n",
        "L_vector=np.array(L)  #array es para convertir una lista en vector\n",
        "M_vector=np.array(M)\n",
        "\n",
        "L_vector+ M_vector"
      ],
      "metadata": {
        "colab": {
          "base_uri": "https://localhost:8080/"
        },
        "id": "HAe34-6XOKYq",
        "outputId": "d48a2e66-2729-4d0e-cbeb-23cec4cd84d0"
      },
      "execution_count": 48,
      "outputs": [
        {
          "output_type": "execute_result",
          "data": {
            "text/plain": [
              "array([22, 36, 43])"
            ]
          },
          "metadata": {},
          "execution_count": 48
        }
      ]
    },
    {
      "cell_type": "code",
      "source": [
        "C=[9,2,2,2,3,3,2,17,2]\n",
        "A=[8, 1, 1, 1, 2, 2, 1, 16,1]\n",
        "\n",
        "C_matriz=np.array(C).reshape(3,3)\n",
        "A_matriz=np.array(A).reshape(3,3)\n",
        "\n",
        "print(C_matriz)\n",
        "print(A_matriz)"
      ],
      "metadata": {
        "colab": {
          "base_uri": "https://localhost:8080/"
        },
        "id": "Cs6xNmTTP1JW",
        "outputId": "09a8fd0d-44cf-478c-b5da-f3a3f46ec237"
      },
      "execution_count": 52,
      "outputs": [
        {
          "output_type": "stream",
          "name": "stdout",
          "text": [
            "[[ 9  2  2]\n",
            " [ 2  3  3]\n",
            " [ 2 17  2]]\n",
            "[[ 8  1  1]\n",
            " [ 1  2  2]\n",
            " [ 1 16  1]]\n"
          ]
        }
      ]
    },
    {
      "cell_type": "code",
      "source": [
        "C_matriz @ A_matriz"
      ],
      "metadata": {
        "colab": {
          "base_uri": "https://localhost:8080/"
        },
        "id": "FfF3X_rNQ6K1",
        "outputId": "044a9983-df21-4ac0-c5af-a308921fd17a"
      },
      "execution_count": 53,
      "outputs": [
        {
          "output_type": "execute_result",
          "data": {
            "text/plain": [
              "array([[76, 45, 15],\n",
              "       [22, 56, 11],\n",
              "       [35, 68, 38]])"
            ]
          },
          "metadata": {},
          "execution_count": 53
        }
      ]
    },
    {
      "cell_type": "code",
      "source": [
        "A_matriz @ C_matriz"
      ],
      "metadata": {
        "colab": {
          "base_uri": "https://localhost:8080/"
        },
        "id": "Rk1R4sslRAPV",
        "outputId": "d4a9407e-8d78-4fd6-d265-8c4f13d09390"
      },
      "execution_count": 54,
      "outputs": [
        {
          "output_type": "execute_result",
          "data": {
            "text/plain": [
              "array([[76, 36, 21],\n",
              "       [17, 42, 12],\n",
              "       [43, 67, 52]])"
            ]
          },
          "metadata": {},
          "execution_count": 54
        }
      ]
    }
  ]
}